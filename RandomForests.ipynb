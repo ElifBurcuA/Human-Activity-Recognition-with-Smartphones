{
  "nbformat": 4,
  "nbformat_minor": 0,
  "metadata": {
    "colab": {
      "provenance": []
    },
    "kernelspec": {
      "name": "python3",
      "display_name": "Python 3"
    },
    "language_info": {
      "name": "python"
    }
  },
  "cells": [
    {
      "cell_type": "code",
      "execution_count": 35,
      "metadata": {
        "id": "SV9R2_wKqkDo"
      },
      "outputs": [],
      "source": [
        "import pandas as pd\n",
        "from sklearn.model_selection import train_test_split, GridSearchCV\n",
        "from sklearn.metrics import confusion_matrix, accuracy_score\n",
        "from sklearn.ensemble import RandomForestClassifier\n"
      ]
    },
    {
      "cell_type": "code",
      "source": [
        "df= pd.read_csv(\"dataset.csv\")"
      ],
      "metadata": {
        "id": "_Ab7ARzBqkeq"
      },
      "execution_count": 36,
      "outputs": []
    },
    {
      "cell_type": "code",
      "source": [
        "y=df[\"Activity\"]\n",
        "X=df.drop([\"Activity\"],axis=1)"
      ],
      "metadata": {
        "id": "uZKAwhJxtU9n"
      },
      "execution_count": 37,
      "outputs": []
    },
    {
      "cell_type": "code",
      "source": [
        "X_train, X_test, y_train, y_test =train_test_split(X,y,\n",
        "                                                   test_size=0.30,\n",
        "                                                   random_state=42)"
      ],
      "metadata": {
        "id": "zj9ldkdMtWri"
      },
      "execution_count": 38,
      "outputs": []
    },
    {
      "cell_type": "code",
      "source": [
        "#Model&Tahmin\n",
        "rf_model=RandomForestClassifier().fit(X_train,y_train)"
      ],
      "metadata": {
        "id": "DWZPy_vKtbQq"
      },
      "execution_count": 39,
      "outputs": []
    },
    {
      "cell_type": "code",
      "source": [
        "rf_model"
      ],
      "metadata": {
        "colab": {
          "base_uri": "https://localhost:8080/"
        },
        "id": "AWfYtVN9touF",
        "outputId": "8369ac88-93ad-42c9-eadb-d1663977580a"
      },
      "execution_count": 40,
      "outputs": [
        {
          "output_type": "execute_result",
          "data": {
            "text/plain": [
              "RandomForestClassifier()"
            ]
          },
          "metadata": {},
          "execution_count": 40
        }
      ]
    },
    {
      "cell_type": "code",
      "source": [
        "y_pred=rf_model.predict(X_test)"
      ],
      "metadata": {
        "id": "eQrYV6JttsXN"
      },
      "execution_count": 41,
      "outputs": []
    },
    {
      "cell_type": "code",
      "source": [
        "accuracy_score(y_test,y_pred)"
      ],
      "metadata": {
        "colab": {
          "base_uri": "https://localhost:8080/"
        },
        "id": "UYFxck9suUpd",
        "outputId": "554113b2-ac48-4950-ccc2-3fb5507a7902"
      },
      "execution_count": 42,
      "outputs": [
        {
          "output_type": "execute_result",
          "data": {
            "text/plain": [
              "0.976051779935275"
            ]
          },
          "metadata": {},
          "execution_count": 42
        }
      ]
    },
    {
      "cell_type": "code",
      "source": [
        "#Model Tuning\n",
        "rf=RandomForestClassifier()"
      ],
      "metadata": {
        "id": "Vv-4DzqLuWYC"
      },
      "execution_count": 43,
      "outputs": []
    },
    {
      "cell_type": "code",
      "source": [
        "rf_params={\"n_estimators\":[100,300] ,     # number of trees to be used\n",
        "           \"max_features\":[5,7,10],           # max number of variables in divisions    \n",
        "            \"min_samples_split\": [2,5,10] }             "
      ],
      "metadata": {
        "id": "oIiu84-gud0X"
      },
      "execution_count": 44,
      "outputs": []
    },
    {
      "cell_type": "code",
      "source": [
        "rf_cv_model=GridSearchCV(rf, rf_params, cv=10, n_jobs=-1, verbose=1).fit(X_train,y_train)"
      ],
      "metadata": {
        "colab": {
          "base_uri": "https://localhost:8080/"
        },
        "id": "Y7V6r5YuvdDT",
        "outputId": "43647ffe-ea2c-497d-f58a-969afdbb0a86"
      },
      "execution_count": 45,
      "outputs": [
        {
          "output_type": "stream",
          "name": "stdout",
          "text": [
            "Fitting 10 folds for each of 18 candidates, totalling 180 fits\n"
          ]
        }
      ]
    },
    {
      "cell_type": "code",
      "source": [
        "rf_cv_model.best_params_"
      ],
      "metadata": {
        "colab": {
          "base_uri": "https://localhost:8080/"
        },
        "id": "ME9GZGZ7SQIh",
        "outputId": "93abcc99-d6df-4600-ce56-64f505f9aba2"
      },
      "execution_count": 46,
      "outputs": [
        {
          "output_type": "execute_result",
          "data": {
            "text/plain": [
              "{'max_features': 10, 'min_samples_split': 2, 'n_estimators': 100}"
            ]
          },
          "metadata": {},
          "execution_count": 46
        }
      ]
    },
    {
      "cell_type": "code",
      "source": [
        "# Final Model\n",
        "rf_tuned=RandomForestClassifier(max_features=10, min_samples_split=2,n_estimators=100).fit(X_train,y_train)"
      ],
      "metadata": {
        "id": "oLDs0JBrSSuM"
      },
      "execution_count": 47,
      "outputs": []
    },
    {
      "cell_type": "code",
      "source": [
        "y_pred=rf_tuned.predict(X_test)"
      ],
      "metadata": {
        "id": "fdbRShGXShol"
      },
      "execution_count": 48,
      "outputs": []
    },
    {
      "cell_type": "code",
      "source": [
        "accuracy_score(y_test,y_pred)"
      ],
      "metadata": {
        "colab": {
          "base_uri": "https://localhost:8080/"
        },
        "id": "DqZOx4FYSnf6",
        "outputId": "f605b594-7c86-4bd1-9cc3-54ac686bc4de"
      },
      "execution_count": 49,
      "outputs": [
        {
          "output_type": "execute_result",
          "data": {
            "text/plain": [
              "0.9766990291262136"
            ]
          },
          "metadata": {},
          "execution_count": 49
        }
      ]
    }
  ]
}